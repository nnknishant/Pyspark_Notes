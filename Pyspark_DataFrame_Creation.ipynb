{
  "nbformat": 4,
  "nbformat_minor": 0,
  "metadata": {
    "colab": {
      "provenance": [],
      "authorship_tag": "ABX9TyO0XUFAr9VrXQ9e0bM4oS4i",
      "include_colab_link": true
    },
    "kernelspec": {
      "name": "python3",
      "display_name": "Python 3"
    },
    "language_info": {
      "name": "python"
    }
  },
  "cells": [
    {
      "cell_type": "markdown",
      "metadata": {
        "id": "view-in-github",
        "colab_type": "text"
      },
      "source": [
        "<a href=\"https://colab.research.google.com/github/nnknishant/Pyspark_Notes/blob/main/Pyspark_DataFrame_Creation.ipynb\" target=\"_parent\"><img src=\"https://colab.research.google.com/assets/colab-badge.svg\" alt=\"Open In Colab\"/></a>"
      ]
    },
    {
      "cell_type": "code",
      "execution_count": 2,
      "metadata": {
        "id": "xAMhjb9kPxna"
      },
      "outputs": [],
      "source": [
        "from pyspark.sql import SparkSession\n",
        "spark = SparkSession.builder.appName(\"example\").getOrCreate()\n",
        "\n",
        "from pyspark.sql.functions import col, sum, avg,when, count"
      ]
    },
    {
      "cell_type": "code",
      "source": [
        "# Create DataFrame\n",
        "\n",
        "data = [  (1, \"Alice\", 23, \"F\", \"IT\", 5000),\n",
        "    (2, \"Bob\", 30, \"M\", \"HR\", 4000),\n",
        "    (3, \"Charlie\", 35, \"M\", \"IT\", 7000),\n",
        "    (4, \"David\", 28, \"M\", \"Finance\", 6000),\n",
        "    (5, \"Eve\", 25, \"F\", \"IT\", 5500),\n",
        "    (6, \"Frank\", 45, \"M\", \"HR\", 8000),\n",
        "    (7, \"Grace\", 50, \"F\", \"Finance\", 9000),\n",
        "\n",
        "]"
      ],
      "metadata": {
        "id": "Zc0ZJ5YhQZpH"
      },
      "execution_count": 3,
      "outputs": []
    },
    {
      "cell_type": "code",
      "source": [
        "columns = [\"ID\", \"Name\", \"Age\", \"Gender\", \"Department\", \"Salary\"]"
      ],
      "metadata": {
        "id": "SgTVSeJWRIs2"
      },
      "execution_count": 4,
      "outputs": []
    },
    {
      "cell_type": "code",
      "source": [
        "df = spark.createDataFrame(data = data, schema=columns)"
      ],
      "metadata": {
        "id": "ZrLI_qg8RUo-"
      },
      "execution_count": 5,
      "outputs": []
    },
    {
      "cell_type": "code",
      "source": [
        "df.show()"
      ],
      "metadata": {
        "colab": {
          "base_uri": "https://localhost:8080/"
        },
        "id": "gqGDV9aRRZUH",
        "outputId": "2371f7bd-f295-4eb3-b256-43048dddeddd"
      },
      "execution_count": 6,
      "outputs": [
        {
          "output_type": "stream",
          "name": "stdout",
          "text": [
            "+---+-------+---+------+----------+------+\n",
            "| ID|   Name|Age|Gender|Department|Salary|\n",
            "+---+-------+---+------+----------+------+\n",
            "|  1|  Alice| 23|     F|        IT|  5000|\n",
            "|  2|    Bob| 30|     M|        HR|  4000|\n",
            "|  3|Charlie| 35|     M|        IT|  7000|\n",
            "|  4|  David| 28|     M|   Finance|  6000|\n",
            "|  5|    Eve| 25|     F|        IT|  5500|\n",
            "|  6|  Frank| 45|     M|        HR|  8000|\n",
            "|  7|  Grace| 50|     F|   Finance|  9000|\n",
            "+---+-------+---+------+----------+------+\n",
            "\n"
          ]
        }
      ]
    },
    {
      "cell_type": "code",
      "source": [
        "# Filter by Department & Salary greater than 5000\n",
        "\n",
        "filtered_df = df.filter((col(\"Department\") == \"IT\") & (col(\"Salary\") > 5000))\n",
        "\n",
        "filtered_df.show()"
      ],
      "metadata": {
        "colab": {
          "base_uri": "https://localhost:8080/"
        },
        "id": "vSU5M2BARbAu",
        "outputId": "ad5ebd4e-a554-47b7-a32f-da1fc43ddf3f"
      },
      "execution_count": 7,
      "outputs": [
        {
          "output_type": "stream",
          "name": "stdout",
          "text": [
            "+---+-------+---+------+----------+------+\n",
            "| ID|   Name|Age|Gender|Department|Salary|\n",
            "+---+-------+---+------+----------+------+\n",
            "|  3|Charlie| 35|     M|        IT|  7000|\n",
            "|  5|    Eve| 25|     F|        IT|  5500|\n",
            "+---+-------+---+------+----------+------+\n",
            "\n"
          ]
        }
      ]
    },
    {
      "cell_type": "code",
      "source": [
        "# Group by Department, find total salary by department\n",
        "\n",
        "grouped_df = df.groupBy(\"Department\")\\\n",
        "              .agg(sum(\"Salary\").alias(\"Total_Salary\"),\n",
        "                   avg(\"Salary\").alias(\"Avg_salary\"),\n",
        "                   count(\"ID\").alias(\"Count_Employees\"))\n",
        "\n",
        "grouped_df.show()"
      ],
      "metadata": {
        "colab": {
          "base_uri": "https://localhost:8080/"
        },
        "id": "uTjLmaLTWdnG",
        "outputId": "9d9018f9-0aea-4eb4-c845-3a3348761319"
      },
      "execution_count": 8,
      "outputs": [
        {
          "output_type": "stream",
          "name": "stdout",
          "text": [
            "+----------+------------+-----------------+---------------+\n",
            "|Department|Total_Salary|       Avg_salary|Count_Employees|\n",
            "+----------+------------+-----------------+---------------+\n",
            "|        HR|       12000|           6000.0|              2|\n",
            "|        IT|       17500|5833.333333333333|              3|\n",
            "|   Finance|       15000|           7500.0|              2|\n",
            "+----------+------------+-----------------+---------------+\n",
            "\n"
          ]
        }
      ]
    },
    {
      "cell_type": "code",
      "source": [
        "# Create conditional column based on bonus\n",
        "\n",
        "df_bonus = df.withColumn(\"Bonus\",when(col( \"Salary\") > 6000,1000).otherwise(500)\n",
        "\n",
        ")\n",
        "\n",
        "df_bonus.show()\n",
        "\n"
      ],
      "metadata": {
        "colab": {
          "base_uri": "https://localhost:8080/"
        },
        "id": "WOEFO8_tYjIA",
        "outputId": "d756bfbe-997e-4337-e56b-f71ca161c116"
      },
      "execution_count": 9,
      "outputs": [
        {
          "output_type": "stream",
          "name": "stdout",
          "text": [
            "+---+-------+---+------+----------+------+-----+\n",
            "| ID|   Name|Age|Gender|Department|Salary|Bonus|\n",
            "+---+-------+---+------+----------+------+-----+\n",
            "|  1|  Alice| 23|     F|        IT|  5000|  500|\n",
            "|  2|    Bob| 30|     M|        HR|  4000|  500|\n",
            "|  3|Charlie| 35|     M|        IT|  7000| 1000|\n",
            "|  4|  David| 28|     M|   Finance|  6000|  500|\n",
            "|  5|    Eve| 25|     F|        IT|  5500|  500|\n",
            "|  6|  Frank| 45|     M|        HR|  8000| 1000|\n",
            "|  7|  Grace| 50|     F|   Finance|  9000| 1000|\n",
            "+---+-------+---+------+----------+------+-----+\n",
            "\n"
          ]
        }
      ]
    },
    {
      "cell_type": "code",
      "source": [],
      "metadata": {
        "id": "QVxiN64alxJ3"
      },
      "execution_count": null,
      "outputs": []
    }
  ]
}